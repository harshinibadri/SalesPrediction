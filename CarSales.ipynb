{
 "cells": [
  {
   "cell_type": "code",
   "execution_count": 2,
   "metadata": {},
   "outputs": [
    {
     "name": "stdout",
     "output_type": "stream",
     "text": [
      "Fitting 5 folds for each of 100 candidates, totalling 500 fits\n",
      "Best Hyperparameters: {'regressor__n_estimators': 100, 'regressor__min_samples_split': 2, 'regressor__min_samples_leaf': 2, 'regressor__max_depth': None, 'regressor__bootstrap': True}\n",
      "R^2 Score: 0.9513728282138564\n",
      "Mean Absolute Percentage Error (MAPE): 3.5786892580321057%\n",
      "Predicted Car Purchase Amount: 33607.045775389444\n"
     ]
    }
   ],
   "source": [
    "import pandas as pd\n",
    "import numpy as np\n",
    "from sklearn.model_selection import train_test_split, RandomizedSearchCV\n",
    "from sklearn.preprocessing import StandardScaler, OneHotEncoder\n",
    "from sklearn.compose import ColumnTransformer\n",
    "from sklearn.pipeline import Pipeline\n",
    "from sklearn.ensemble import RandomForestRegressor\n",
    "from sklearn.metrics import r2_score, mean_absolute_percentage_error\n",
    "file_path = \"C:/Users/VENUGOPAL BADRI/Downloads/car_purchasing.csv\"\n",
    "data = pd.read_csv(file_path, encoding='latin1')\n",
    "# Drop irrelevant columns\n",
    "data = data.drop(['customer name', 'customer e-mail'], axis=1)\n",
    "# Split data into features (X) and target (y)\n",
    "X = data.drop(['car purchase amount'], axis=1)\n",
    "y = data['car purchase amount']\n",
    "# Identify categorical and numerical columns\n",
    "categorical_columns = ['country']\n",
    "numerical_columns = ['gender', 'age', 'annual Salary', 'credit card debt', 'net worth']\n",
    "# Define column transformer for preprocessing\n",
    "preprocessor = ColumnTransformer(\n",
    "    transformers=[\n",
    "        ('num', StandardScaler(), numerical_columns),\n",
    "        ('cat', OneHotEncoder(handle_unknown='ignore'), categorical_columns)  # Updated\n",
    "    ]\n",
    ")\n",
    "# Create the pipeline\n",
    "pipeline = Pipeline([\n",
    "    ('preprocessor', preprocessor),\n",
    "    ('regressor', RandomForestRegressor(random_state=42))\n",
    "])\n",
    "# Split data into training and test sets\n",
    "X_train, X_test, y_train, y_test = train_test_split(X, y, test_size=0.2, random_state=42)\n",
    "# Hyperparameter tuning using RandomizedSearchCV\n",
    "param_dist = {\n",
    "    'regressor__n_estimators': [100, 200, 300],\n",
    "    'regressor__max_depth': [10, 20, 30, None],\n",
    "    'regressor__min_samples_split': [2, 5, 10],\n",
    "    'regressor__min_samples_leaf': [1, 2, 4],\n",
    "    'regressor__bootstrap': [True, False]\n",
    "}\n",
    "# Randomized search on hyperparameters\n",
    "random_search = RandomizedSearchCV(pipeline, param_distributions=param_dist, n_iter=100, cv=5, \n",
    "                                   verbose=2, random_state=42, n_jobs=-1)\n",
    "random_search.fit(X_train, y_train)\n",
    "print(f\"Best Hyperparameters: {random_search.best_params_}\")\n",
    "# Evaluate the best model from RandomizedSearchCV\n",
    "best_model = random_search.best_estimator_\n",
    "# Make predictions with the best model\n",
    "y_pred = best_model.predict(X_test)\n",
    "# Evaluate the model\n",
    "r2 = r2_score(y_test, y_pred)\n",
    "mape = mean_absolute_percentage_error(y_test, y_pred)  \n",
    "print(f\"R^2 Score: {r2}\")\n",
    "print(f\"Mean Absolute Percentage Error (MAPE): {mape * 100}%\")\n",
    "# Example prediction with best model\n",
    "example_input = pd.DataFrame({\n",
    "    'country': ['Brazil'],\n",
    "    'gender': [1],\n",
    "    'age': [40],\n",
    "    'annual Salary': [60000],\n",
    "    'credit card debt': [5000],\n",
    "    'net worth': [300000]\n",
    "})\n",
    "example_prediction = best_model.predict(example_input)\n",
    "print(f\"Predicted Car Purchase Amount: {example_prediction[0]}\")\n"
   ]
  },
  {
   "cell_type": "code",
   "execution_count": null,
   "metadata": {},
   "outputs": [],
   "source": []
  }
 ],
 "metadata": {
  "kernelspec": {
   "display_name": "Python 3",
   "language": "python",
   "name": "python3"
  },
  "language_info": {
   "codemirror_mode": {
    "name": "ipython",
    "version": 3
   },
   "file_extension": ".py",
   "mimetype": "text/x-python",
   "name": "python",
   "nbconvert_exporter": "python",
   "pygments_lexer": "ipython3",
   "version": "3.10.7"
  }
 },
 "nbformat": 4,
 "nbformat_minor": 2
}
